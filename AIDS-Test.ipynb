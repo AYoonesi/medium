{
 "cells": [
  {
   "cell_type": "markdown",
   "id": "54abb18b",
   "metadata": {},
   "source": [
    "# The Truth About Why Programmers Are More Intelligent Than Doctors?\n",
    "---\n",
    "## Doctors Are Smarter Than All? Is That Possible?  And What That Means For You Discussed In Details!"
   ]
  },
  {
   "cell_type": "code",
   "execution_count": 1,
   "id": "eabf4ba0",
   "metadata": {},
   "outputs": [],
   "source": [
    "# That any given person has the disease in Germany\n",
    "p_d = 64000 / 80_827_001\n",
    "\n",
    "# That the person is not sick\n",
    "p_not_d = 1 - p_d\n",
    "\n",
    "# That test positive if sick\n",
    "p_t_if_d = 0.99\n",
    "\n",
    "# That test positive but not sick\n",
    "p_t_if_not_d = 1 - p_t_if_d\n",
    "\n",
    "# That test positive and sick => Joe is fucked!\n",
    "p_d_if_t = (p_t_if_d * p_d) / ((p_t_if_d * p_d) + (p_t_if_not_d * p_not_d))"
   ]
  },
  {
   "cell_type": "code",
   "execution_count": 2,
   "id": "f88309be",
   "metadata": {},
   "outputs": [
    {
     "name": "stdout",
     "output_type": "stream",
     "text": [
      "Result is 7.27% accurate so, meh, he is not so f**ked 😒\n"
     ]
    }
   ],
   "source": [
    "print(f'Result is {int(p_d_if_t * 10000)/100}% accurate so,', 'he is very f**ked 😁' if (p_d_if_t >= 0.5) else 'meh, he is not so f**ked 😒')"
   ]
  }
 ],
 "metadata": {
  "kernelspec": {
   "display_name": "Python 3 (ipykernel)",
   "language": "python",
   "name": "python3"
  },
  "language_info": {
   "codemirror_mode": {
    "name": "ipython",
    "version": 3
   },
   "file_extension": ".py",
   "mimetype": "text/x-python",
   "name": "python",
   "nbconvert_exporter": "python",
   "pygments_lexer": "ipython3",
   "version": "3.10.6"
  }
 },
 "nbformat": 4,
 "nbformat_minor": 5
}
